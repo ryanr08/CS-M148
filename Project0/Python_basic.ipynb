{
  "nbformat": 4,
  "nbformat_minor": 0,
  "metadata": {
    "anaconda-cloud": {},
    "kernelspec": {
      "display_name": "Python 3",
      "language": "python",
      "name": "python3"
    },
    "language_info": {
      "codemirror_mode": {
        "name": "ipython",
        "version": 3
      },
      "file_extension": ".py",
      "mimetype": "text/x-python",
      "name": "python",
      "nbconvert_exporter": "python",
      "pygments_lexer": "ipython3",
      "version": "3.9.1"
    },
    "colab": {
      "name": "Python_basic.ipynb",
      "provenance": [],
      "collapsed_sections": [
        "f7n3-cPyxPko",
        "2NoLaA8QxPkp",
        "iHhdOJpbxPkz",
        "IGXSPAe4xPk0",
        "5vTqcQAKxPk_"
      ]
    }
  },
  "cells": [
    {
      "cell_type": "markdown",
      "metadata": {
        "id": "lhjkg9cExPkh"
      },
      "source": [
        "# Outline:\n",
        "<ol start=\"1\">\n",
        "<li> Writing short Python code using functions, loops, lists, numpy arrays, and dictionaries </li>\n",
        "<li> Manipulating Python lists and numpy arrays and understanding the difference between them</li>\n",
        "<li> Introducing the stats libraries scipy.stats and statsmodels</li>\n",
        "</ol>"
      ]
    },
    {
      "cell_type": "markdown",
      "metadata": {
        "id": "MurCaMxfxPkj"
      },
      "source": [
        "## Getting Started with Python"
      ]
    },
    {
      "cell_type": "markdown",
      "metadata": {
        "id": "_0nZyLJqxPkj"
      },
      "source": [
        "### Importing modules\n",
        "All notebooks should begin with code that imports *modules*, collections of built-in, commonly-used Python functions.  Below we import the Numpy module, a fast numerical programming library for scientific computing.  Future labs will require additional modules, which we'll import with the same syntax.\n",
        "\n",
        "`import MODULE_NAME as MODULE_NICKNAME` "
      ]
    },
    {
      "cell_type": "code",
      "metadata": {
        "id": "tDABgRuzxPkk"
      },
      "source": [
        "import numpy as np #imports a fast numerical programming library"
      ],
      "execution_count": 2,
      "outputs": []
    },
    {
      "cell_type": "markdown",
      "metadata": {
        "id": "qZ-U3vkLxPkk"
      },
      "source": [
        "Now that Numpy has been imported, we can access some useful functions.  For example, we can use `mean` to calculate the mean of a set of numbers."
      ]
    },
    {
      "cell_type": "code",
      "metadata": {
        "colab": {
          "base_uri": "https://localhost:8080/"
        },
        "id": "WJZesfAqxPkk",
        "outputId": "3336b318-d513-43d8-bbc0-b3e5eedbf070"
      },
      "source": [
        "my_list = [1.2, 2, 3.3]\n",
        "np.mean(my_list)"
      ],
      "execution_count": 3,
      "outputs": [
        {
          "output_type": "execute_result",
          "data": {
            "text/plain": [
              "2.1666666666666665"
            ]
          },
          "metadata": {
            "tags": []
          },
          "execution_count": 3
        }
      ]
    },
    {
      "cell_type": "markdown",
      "metadata": {
        "id": "p7YH0C6gxPkl"
      },
      "source": [
        "### Calculations and variables"
      ]
    },
    {
      "cell_type": "code",
      "metadata": {
        "colab": {
          "base_uri": "https://localhost:8080/"
        },
        "id": "AgUzF6y7xPkl",
        "outputId": "c303d504-7993-4e5a-bfe3-a208d0152b5c"
      },
      "source": [
        "# // is integer division\n",
        "1/2, 1//2, 1.0/2, 3*3.2"
      ],
      "execution_count": 4,
      "outputs": [
        {
          "output_type": "execute_result",
          "data": {
            "text/plain": [
              "(0.5, 0, 0.5, 9.600000000000001)"
            ]
          },
          "metadata": {
            "tags": []
          },
          "execution_count": 4
        }
      ]
    },
    {
      "cell_type": "markdown",
      "metadata": {
        "id": "WXvOZKpWxPkl"
      },
      "source": [
        "The last line in a cell is returned as the output value, as above.  For cells with multiple lines of results, we can display results using ``print``, as can be seen below."
      ]
    },
    {
      "cell_type": "code",
      "metadata": {
        "colab": {
          "base_uri": "https://localhost:8080/"
        },
        "id": "6nird0XxxPkl",
        "outputId": "22f18f33-2d81-45ea-9d5b-2db2ab90ad8a"
      },
      "source": [
        "print(1 + 3.0, \"\\n\", 9, 7)\n",
        "5/3"
      ],
      "execution_count": 31,
      "outputs": [
        {
          "output_type": "stream",
          "text": [
            "4.0 \n",
            " 9 7\n"
          ],
          "name": "stdout"
        },
        {
          "output_type": "execute_result",
          "data": {
            "text/plain": [
              "1.6666666666666667"
            ]
          },
          "metadata": {
            "tags": []
          },
          "execution_count": 31
        }
      ]
    },
    {
      "cell_type": "markdown",
      "metadata": {
        "id": "Jit01V1xxPkm"
      },
      "source": [
        "We can store integer or floating point values as variables.  The other basic Python data types -- booleans, strings, lists -- can also be stored as variables. "
      ]
    },
    {
      "cell_type": "code",
      "metadata": {
        "id": "Jfznc7R9xPkm"
      },
      "source": [
        "a = 1\n",
        "b = 2.0"
      ],
      "execution_count": 32,
      "outputs": []
    },
    {
      "cell_type": "markdown",
      "metadata": {
        "id": "2FKKMqloxPkm"
      },
      "source": [
        "Here is the storing of a list"
      ]
    },
    {
      "cell_type": "code",
      "metadata": {
        "id": "IOn6DpIwxPkm"
      },
      "source": [
        "a = [1, 2, 3]"
      ],
      "execution_count": 7,
      "outputs": []
    },
    {
      "cell_type": "markdown",
      "metadata": {
        "id": "EuxQEWKlxPkn"
      },
      "source": [
        "Think of a variable as a label for a value, not a box in which you put the value"
      ]
    },
    {
      "cell_type": "code",
      "metadata": {
        "colab": {
          "base_uri": "https://localhost:8080/"
        },
        "id": "cg9jlNzqxPkn",
        "outputId": "4dbd1eea-3603-4f4e-d456-d381f339e59e"
      },
      "source": [
        "b = a\n",
        "b"
      ],
      "execution_count": 8,
      "outputs": [
        {
          "output_type": "execute_result",
          "data": {
            "text/plain": [
              "[1, 2, 3]"
            ]
          },
          "metadata": {
            "tags": []
          },
          "execution_count": 8
        }
      ]
    },
    {
      "cell_type": "markdown",
      "metadata": {
        "id": "axq34QQNxPkn"
      },
      "source": [
        "This DOES NOT create a new copy of `a`. It merely puts a new label on the memory at a, as can be seen by the following code:"
      ]
    },
    {
      "cell_type": "code",
      "metadata": {
        "colab": {
          "base_uri": "https://localhost:8080/"
        },
        "id": "7fsozu8oxPkn",
        "outputId": "67d70dd5-4a52-41f7-fe4c-8844015426f0"
      },
      "source": [
        "print(\"a\", a)\n",
        "print(\"b\", b)\n",
        "a[1] = 7\n",
        "print(\"a after change\", a)\n",
        "print(\"b after change\", b)"
      ],
      "execution_count": 10,
      "outputs": [
        {
          "output_type": "stream",
          "text": [
            "a [1, 7, 3]\n",
            "b [1, 7, 3]\n",
            "a after change [1, 7, 3]\n",
            "b after change [1, 7, 3]\n"
          ],
          "name": "stdout"
        }
      ]
    },
    {
      "cell_type": "markdown",
      "metadata": {
        "id": "I6ySaz8SxPkn"
      },
      "source": [
        "what if we use b=a.copy()?"
      ]
    },
    {
      "cell_type": "markdown",
      "metadata": {
        "id": "Hmcx3fVkxPko"
      },
      "source": [
        "**Tuples**\n",
        "\n",
        "Multiple items on one line in the interface are returned as a *tuple*, an immutable sequence of Python objects. See the end of this notebook for an interesting use of `tuples`."
      ]
    },
    {
      "cell_type": "code",
      "metadata": {
        "colab": {
          "base_uri": "https://localhost:8080/"
        },
        "id": "lrrObQgUxPko",
        "outputId": "b150344d-5292-4ecf-addd-761c1cc4aac3"
      },
      "source": [
        "a = 1\n",
        "b = 2.0\n",
        "a + a, a - b, b * b, 10*a"
      ],
      "execution_count": 33,
      "outputs": [
        {
          "output_type": "execute_result",
          "data": {
            "text/plain": [
              "(2, -1.0, 4.0, 10)"
            ]
          },
          "metadata": {
            "tags": []
          },
          "execution_count": 33
        }
      ]
    },
    {
      "cell_type": "markdown",
      "metadata": {
        "id": "f7n3-cPyxPko"
      },
      "source": [
        "#### `type()`\n",
        "\n",
        "We can obtain the type of a variable, and use boolean comparisons to test these types. VERY USEFUL when things go wrong and you cannot understand why this method does not work on a specific variable!"
      ]
    },
    {
      "cell_type": "code",
      "metadata": {
        "colab": {
          "base_uri": "https://localhost:8080/"
        },
        "id": "LB-RGKVsxPko",
        "outputId": "dafd226b-e872-4ddc-ebda-cc83ef70d037"
      },
      "source": [
        "type(a) == float"
      ],
      "execution_count": 34,
      "outputs": [
        {
          "output_type": "execute_result",
          "data": {
            "text/plain": [
              "False"
            ]
          },
          "metadata": {
            "tags": []
          },
          "execution_count": 34
        }
      ]
    },
    {
      "cell_type": "code",
      "metadata": {
        "colab": {
          "base_uri": "https://localhost:8080/"
        },
        "id": "iRU9_FVMxPko",
        "outputId": "9d62ac42-67b9-4ba7-bd19-18095f30fd58"
      },
      "source": [
        "type(a) == int"
      ],
      "execution_count": 35,
      "outputs": [
        {
          "output_type": "execute_result",
          "data": {
            "text/plain": [
              "True"
            ]
          },
          "metadata": {
            "tags": []
          },
          "execution_count": 35
        }
      ]
    },
    {
      "cell_type": "code",
      "metadata": {
        "colab": {
          "base_uri": "https://localhost:8080/"
        },
        "id": "VrKMrOzNxPkp",
        "outputId": "faf0c6a6-2210-4e82-f45d-19e641b2d194"
      },
      "source": [
        "type(a)"
      ],
      "execution_count": 36,
      "outputs": [
        {
          "output_type": "execute_result",
          "data": {
            "text/plain": [
              "int"
            ]
          },
          "metadata": {
            "tags": []
          },
          "execution_count": 36
        }
      ]
    },
    {
      "cell_type": "markdown",
      "metadata": {
        "id": "1bvvuaycxPkp"
      },
      "source": [
        "<div class='exercise'> <b> EXERCISE 1:  Create a tuple called `tup` with the following seven objects: </div>\n",
        "\n",
        "- The first element is an integer of your choice\n",
        "- The second element is a float of your choice  \n",
        "- The third element is the sum of the first two elements\n",
        "- The fourth element is the difference of the first two elements\n",
        "- The fifth element is the first element divided by the second element\n",
        "\n",
        "- Display the output of `tup`.  What is the type of the variable `tup`? What happens if you try and chage an item in the tuple? "
      ]
    },
    {
      "cell_type": "code",
      "metadata": {
        "colab": {
          "base_uri": "https://localhost:8080/",
          "height": 214
        },
        "id": "7WK6Z8jWxPkp",
        "outputId": "7dfc41e2-41b5-4226-cb36-dcdbd88376dd"
      },
      "source": [
        "x = 72\n",
        "y = 3.0\n",
        "tup = (x, y, x + y, x - y, x / y)\n",
        "print(tup)\n",
        "type(tup) # tup is of type tuple\n",
        "tup[2] = \"hello\"  # tuples are immutable, so this will give us an error"
      ],
      "execution_count": 39,
      "outputs": [
        {
          "output_type": "stream",
          "text": [
            "(72, 3.0, 75.0, 69.0, 24.0)\n"
          ],
          "name": "stdout"
        },
        {
          "output_type": "error",
          "ename": "TypeError",
          "evalue": "ignored",
          "traceback": [
            "\u001b[0;31m---------------------------------------------------------------------------\u001b[0m",
            "\u001b[0;31mTypeError\u001b[0m                                 Traceback (most recent call last)",
            "\u001b[0;32m<ipython-input-39-c9636d3fc3f2>\u001b[0m in \u001b[0;36m<module>\u001b[0;34m()\u001b[0m\n\u001b[1;32m      4\u001b[0m \u001b[0mprint\u001b[0m\u001b[0;34m(\u001b[0m\u001b[0mtup\u001b[0m\u001b[0;34m)\u001b[0m\u001b[0;34m\u001b[0m\u001b[0;34m\u001b[0m\u001b[0m\n\u001b[1;32m      5\u001b[0m \u001b[0mtype\u001b[0m\u001b[0;34m(\u001b[0m\u001b[0mtup\u001b[0m\u001b[0;34m)\u001b[0m \u001b[0;31m# tup is of type tuple\u001b[0m\u001b[0;34m\u001b[0m\u001b[0;34m\u001b[0m\u001b[0m\n\u001b[0;32m----> 6\u001b[0;31m \u001b[0mtup\u001b[0m\u001b[0;34m[\u001b[0m\u001b[0;36m2\u001b[0m\u001b[0;34m]\u001b[0m \u001b[0;34m=\u001b[0m \u001b[0;34m\"hello\"\u001b[0m  \u001b[0;31m# tuples are immutable, so this will give us an error\u001b[0m\u001b[0;34m\u001b[0m\u001b[0;34m\u001b[0m\u001b[0m\n\u001b[0m",
            "\u001b[0;31mTypeError\u001b[0m: 'tuple' object does not support item assignment"
          ]
        }
      ]
    },
    {
      "cell_type": "markdown",
      "metadata": {
        "id": "2NoLaA8QxPkp"
      },
      "source": [
        "### Lists\n",
        "\n",
        "Much of Python is based on the notion of a list.  In Python, a list is a sequence of items separated by commas, all within square brackets.  The items can be integers, floating points, or another type.  Unlike in C arrays, items in a Python list can be different types, so Python lists are more versatile than traditional arrays in C or other languages. \n",
        "\n",
        "Let's start out by creating a few lists.  "
      ]
    },
    {
      "cell_type": "code",
      "metadata": {
        "colab": {
          "base_uri": "https://localhost:8080/"
        },
        "id": "NdYaQHdixPkp",
        "outputId": "51deef48-a79c-486d-f8da-550ec469d262"
      },
      "source": [
        "empty_list = []\n",
        "float_list = [1., 3., 5., 4., 2.]\n",
        "int_list = [1, 2, 3, 4, 5, 6, 7, 8, 9, 10]\n",
        "mixed_list = [1, 2., 3, 4., 5]\n",
        "print(empty_list)\n",
        "print(int_list)\n",
        "print(mixed_list, float_list)"
      ],
      "execution_count": 40,
      "outputs": [
        {
          "output_type": "stream",
          "text": [
            "[]\n",
            "[1, 2, 3, 4, 5, 6, 7, 8, 9, 10]\n",
            "[1, 2.0, 3, 4.0, 5] [1.0, 3.0, 5.0, 4.0, 2.0]\n"
          ],
          "name": "stdout"
        }
      ]
    },
    {
      "cell_type": "markdown",
      "metadata": {
        "id": "7e7IElRsxPkq"
      },
      "source": [
        "Lists in Python are zero-indexed, as in C.  The first entry of the list has index 0, the second has index 1, and so on."
      ]
    },
    {
      "cell_type": "code",
      "metadata": {
        "colab": {
          "base_uri": "https://localhost:8080/"
        },
        "id": "hcholuPIxPkq",
        "outputId": "4fef1a32-e976-496f-beea-cd97e5b42155"
      },
      "source": [
        "print(int_list[0])\n",
        "print(float_list[1])"
      ],
      "execution_count": 41,
      "outputs": [
        {
          "output_type": "stream",
          "text": [
            "1\n",
            "3.0\n"
          ],
          "name": "stdout"
        }
      ]
    },
    {
      "cell_type": "markdown",
      "metadata": {
        "id": "9139nmKKxPkq"
      },
      "source": [
        "What happens if we try to use an index that doesn't exist for that list?  Python will complain!"
      ]
    },
    {
      "cell_type": "code",
      "metadata": {
        "colab": {
          "base_uri": "https://localhost:8080/",
          "height": 163
        },
        "id": "suJhYKrexPkq",
        "outputId": "7d39b95c-36b8-4951-fb47-64ceec9eebb2"
      },
      "source": [
        "print(float_list[10])"
      ],
      "execution_count": 42,
      "outputs": [
        {
          "output_type": "error",
          "ename": "IndexError",
          "evalue": "ignored",
          "traceback": [
            "\u001b[0;31m---------------------------------------------------------------------------\u001b[0m",
            "\u001b[0;31mIndexError\u001b[0m                                Traceback (most recent call last)",
            "\u001b[0;32m<ipython-input-42-0138b2c321c5>\u001b[0m in \u001b[0;36m<module>\u001b[0;34m()\u001b[0m\n\u001b[0;32m----> 1\u001b[0;31m \u001b[0mprint\u001b[0m\u001b[0;34m(\u001b[0m\u001b[0mfloat_list\u001b[0m\u001b[0;34m[\u001b[0m\u001b[0;36m10\u001b[0m\u001b[0;34m]\u001b[0m\u001b[0;34m)\u001b[0m\u001b[0;34m\u001b[0m\u001b[0;34m\u001b[0m\u001b[0m\n\u001b[0m",
            "\u001b[0;31mIndexError\u001b[0m: list index out of range"
          ]
        }
      ]
    },
    {
      "cell_type": "markdown",
      "metadata": {
        "id": "ZR_x5WsvxPkq"
      },
      "source": [
        "You can find the length of a list using the built-in function `len`:"
      ]
    },
    {
      "cell_type": "code",
      "metadata": {
        "colab": {
          "base_uri": "https://localhost:8080/"
        },
        "id": "PkpfpNpGxPkr",
        "outputId": "f1f49a4d-89a2-4a99-cb6a-449ac1503a4c"
      },
      "source": [
        "print(float_list)\n",
        "len(float_list)"
      ],
      "execution_count": 43,
      "outputs": [
        {
          "output_type": "stream",
          "text": [
            "[1.0, 3.0, 5.0, 4.0, 2.0]\n"
          ],
          "name": "stdout"
        },
        {
          "output_type": "execute_result",
          "data": {
            "text/plain": [
              "5"
            ]
          },
          "metadata": {
            "tags": []
          },
          "execution_count": 43
        }
      ]
    },
    {
      "cell_type": "markdown",
      "metadata": {
        "id": "Em_vx90vxPkr"
      },
      "source": [
        "### Indexing on lists plus Slicing"
      ]
    },
    {
      "cell_type": "markdown",
      "metadata": {
        "id": "B2ldycKVxPkr"
      },
      "source": [
        "And since Python is zero-indexed, the last element of `float_list` is"
      ]
    },
    {
      "cell_type": "code",
      "metadata": {
        "colab": {
          "base_uri": "https://localhost:8080/"
        },
        "id": "bjBu7kZLxPkr",
        "outputId": "b6cbf140-1677-461a-ea50-2b10b617b5d3"
      },
      "source": [
        "float_list[len(float_list)-1]"
      ],
      "execution_count": 44,
      "outputs": [
        {
          "output_type": "execute_result",
          "data": {
            "text/plain": [
              "2.0"
            ]
          },
          "metadata": {
            "tags": []
          },
          "execution_count": 44
        }
      ]
    },
    {
      "cell_type": "markdown",
      "metadata": {
        "id": "aQUvhOB0xPkr"
      },
      "source": [
        "It is more idiomatic in Python to use -1 for the last element, -2 for the second last, and so on"
      ]
    },
    {
      "cell_type": "code",
      "metadata": {
        "colab": {
          "base_uri": "https://localhost:8080/"
        },
        "id": "U2moOmqvxPkr",
        "outputId": "53e70ca4-6fef-4784-e9f3-d16edaff909f"
      },
      "source": [
        "float_list[-1]"
      ],
      "execution_count": 45,
      "outputs": [
        {
          "output_type": "execute_result",
          "data": {
            "text/plain": [
              "2.0"
            ]
          },
          "metadata": {
            "tags": []
          },
          "execution_count": 45
        }
      ]
    },
    {
      "cell_type": "markdown",
      "metadata": {
        "id": "l-1iob0SxPks"
      },
      "source": [
        "We can use the ``:`` operator to access a subset of the list.  This is called **slicing.** "
      ]
    },
    {
      "cell_type": "code",
      "metadata": {
        "colab": {
          "base_uri": "https://localhost:8080/"
        },
        "id": "xaXh7hInxPks",
        "outputId": "5e4dea5b-a8b7-43b4-c416-3f61fd3c11df"
      },
      "source": [
        "print(float_list[1:5])\n",
        "print(float_list[0:2])"
      ],
      "execution_count": 46,
      "outputs": [
        {
          "output_type": "stream",
          "text": [
            "[3.0, 5.0, 4.0, 2.0]\n",
            "[1.0, 3.0]\n"
          ],
          "name": "stdout"
        }
      ]
    },
    {
      "cell_type": "code",
      "metadata": {
        "colab": {
          "base_uri": "https://localhost:8080/"
        },
        "id": "bkud7kDAxPks",
        "outputId": "04dd8d98-05e3-4c18-f927-9cc27fe2d410"
      },
      "source": [
        "lst = ['hi', 7, 'c', 'cat', 'hello', 8]\n",
        "lst[:2]"
      ],
      "execution_count": 47,
      "outputs": [
        {
          "output_type": "execute_result",
          "data": {
            "text/plain": [
              "['hi', 7]"
            ]
          },
          "metadata": {
            "tags": []
          },
          "execution_count": 47
        }
      ]
    },
    {
      "cell_type": "markdown",
      "metadata": {
        "id": "oxFNnCNYxPks"
      },
      "source": [
        "You can slice \"backwards\" as well:"
      ]
    },
    {
      "cell_type": "code",
      "metadata": {
        "colab": {
          "base_uri": "https://localhost:8080/"
        },
        "id": "tmb6lNguxPks",
        "outputId": "a318fea3-b1e0-414a-feba-bb2600b4fdf9"
      },
      "source": [
        "float_list[:-2] # up to second last"
      ],
      "execution_count": 24,
      "outputs": [
        {
          "output_type": "execute_result",
          "data": {
            "text/plain": [
              "[1.0, 3.0, 5.0]"
            ]
          },
          "metadata": {
            "tags": []
          },
          "execution_count": 24
        }
      ]
    },
    {
      "cell_type": "code",
      "metadata": {
        "colab": {
          "base_uri": "https://localhost:8080/"
        },
        "id": "XtXHKceUxPkt",
        "outputId": "9a7f7644-67e2-42bc-8f29-5bcec2b5bde9"
      },
      "source": [
        "float_list[:4] # up to but not including 5th element"
      ],
      "execution_count": 48,
      "outputs": [
        {
          "output_type": "execute_result",
          "data": {
            "text/plain": [
              "[1.0, 3.0, 5.0, 4.0]"
            ]
          },
          "metadata": {
            "tags": []
          },
          "execution_count": 48
        }
      ]
    },
    {
      "cell_type": "markdown",
      "metadata": {
        "id": "4lp-a17qxPkt"
      },
      "source": [
        "You can also slice with a stride:"
      ]
    },
    {
      "cell_type": "code",
      "metadata": {
        "colab": {
          "base_uri": "https://localhost:8080/"
        },
        "id": "-Fg3sNKtxPkt",
        "outputId": "cf93c162-cbbe-4577-dfea-bf6bd5deacf2"
      },
      "source": [
        "float_list[:4:2] # above but skipping every second element"
      ],
      "execution_count": 49,
      "outputs": [
        {
          "output_type": "execute_result",
          "data": {
            "text/plain": [
              "[1.0, 5.0]"
            ]
          },
          "metadata": {
            "tags": []
          },
          "execution_count": 49
        }
      ]
    },
    {
      "cell_type": "markdown",
      "metadata": {
        "id": "F5HvyNxHxPkt"
      },
      "source": [
        "We can iterate through a list using a loop.  Here's a **for loop.**"
      ]
    },
    {
      "cell_type": "code",
      "metadata": {
        "colab": {
          "base_uri": "https://localhost:8080/"
        },
        "id": "YBzjwfMxxPkt",
        "outputId": "c9eff9f5-52b1-4dc2-ead5-1176bb510f8b"
      },
      "source": [
        "for ele in float_list:\n",
        "    print(ele)"
      ],
      "execution_count": 50,
      "outputs": [
        {
          "output_type": "stream",
          "text": [
            "1.0\n",
            "3.0\n",
            "5.0\n",
            "4.0\n",
            "2.0\n"
          ],
          "name": "stdout"
        }
      ]
    },
    {
      "cell_type": "markdown",
      "metadata": {
        "id": "OMV84lqLxPkt"
      },
      "source": [
        "What if you wanted the index as well?"
      ]
    },
    {
      "cell_type": "markdown",
      "metadata": {
        "id": "kSRElrWGxPku"
      },
      "source": [
        "Use the built-in python method `enumerate`,  which can be used to create a list of tuples with each tuple of the form `(index, value)`. "
      ]
    },
    {
      "cell_type": "code",
      "metadata": {
        "scrolled": true,
        "colab": {
          "base_uri": "https://localhost:8080/"
        },
        "id": "ZNuByDNAxPku",
        "outputId": "61ac64d0-410e-42f4-f92c-904985158812"
      },
      "source": [
        "for i, ele in enumerate(float_list):\n",
        "    print(i, ele)"
      ],
      "execution_count": 51,
      "outputs": [
        {
          "output_type": "stream",
          "text": [
            "0 1.0\n",
            "1 3.0\n",
            "2 5.0\n",
            "3 4.0\n",
            "4 2.0\n"
          ],
          "name": "stdout"
        }
      ]
    },
    {
      "cell_type": "markdown",
      "metadata": {
        "id": "bM7DEq8ZxPku"
      },
      "source": [
        "### Appending and deleting"
      ]
    },
    {
      "cell_type": "markdown",
      "metadata": {
        "id": "kCgprXQRxPku"
      },
      "source": [
        "We can also append items to the end of the list using the `+` operator or with `append`."
      ]
    },
    {
      "cell_type": "code",
      "metadata": {
        "colab": {
          "base_uri": "https://localhost:8080/"
        },
        "id": "CMpE5AtJxPku",
        "outputId": "1452f9c3-091b-41fa-c697-62a9e0e8b1a3"
      },
      "source": [
        "float_list + [.333]"
      ],
      "execution_count": 52,
      "outputs": [
        {
          "output_type": "execute_result",
          "data": {
            "text/plain": [
              "[1.0, 3.0, 5.0, 4.0, 2.0, 0.333]"
            ]
          },
          "metadata": {
            "tags": []
          },
          "execution_count": 52
        }
      ]
    },
    {
      "cell_type": "code",
      "metadata": {
        "id": "e3al3nt-xPku"
      },
      "source": [
        "float_list.append(.444)"
      ],
      "execution_count": 53,
      "outputs": []
    },
    {
      "cell_type": "code",
      "metadata": {
        "colab": {
          "base_uri": "https://localhost:8080/"
        },
        "id": "MMTJQl_pxPkv",
        "outputId": "0131ba9a-ad12-4146-cb65-30133fb8922b"
      },
      "source": [
        "print(float_list)\n",
        "len(float_list)"
      ],
      "execution_count": 54,
      "outputs": [
        {
          "output_type": "stream",
          "text": [
            "[1.0, 3.0, 5.0, 4.0, 2.0, 0.444]\n"
          ],
          "name": "stdout"
        },
        {
          "output_type": "execute_result",
          "data": {
            "text/plain": [
              "6"
            ]
          },
          "metadata": {
            "tags": []
          },
          "execution_count": 54
        }
      ]
    },
    {
      "cell_type": "markdown",
      "metadata": {
        "id": "hrBU11hVxPkv"
      },
      "source": [
        "Now, run the cell with `float_list.append()` a second time. Then run the subsequent cell. What happens?  \n",
        "\n",
        "To remove an item from the list, use `del.`"
      ]
    },
    {
      "cell_type": "code",
      "metadata": {
        "colab": {
          "base_uri": "https://localhost:8080/"
        },
        "id": "yewj-KaPxPkv",
        "outputId": "6404cc72-9e96-45b4-f41e-ce65f0a24f90"
      },
      "source": [
        "del(float_list[2])\n",
        "print(float_list)"
      ],
      "execution_count": 55,
      "outputs": [
        {
          "output_type": "stream",
          "text": [
            "[1.0, 3.0, 4.0, 2.0, 0.444]\n"
          ],
          "name": "stdout"
        }
      ]
    },
    {
      "cell_type": "markdown",
      "metadata": {
        "id": "quRsJZH_xPkv"
      },
      "source": [
        "You may also add an element (elem) in a specific position (index) in the list"
      ]
    },
    {
      "cell_type": "code",
      "metadata": {
        "colab": {
          "base_uri": "https://localhost:8080/"
        },
        "id": "pADQs-3mxPkv",
        "outputId": "2c0dad57-7c1e-4904-e9ba-d96665c8d7a8"
      },
      "source": [
        "elem = '3.14'\n",
        "index = 1\n",
        "float_list.insert(index, elem)\n",
        "float_list"
      ],
      "execution_count": 56,
      "outputs": [
        {
          "output_type": "execute_result",
          "data": {
            "text/plain": [
              "[1.0, '3.14', 3.0, 4.0, 2.0, 0.444]"
            ]
          },
          "metadata": {
            "tags": []
          },
          "execution_count": 56
        }
      ]
    },
    {
      "cell_type": "markdown",
      "metadata": {
        "id": "SUl-fY8kxPkv"
      },
      "source": [
        "### List Comprehensions\n",
        "\n",
        "Lists can be constructed in a compact way using a *list comprehension*.  Here's a simple example."
      ]
    },
    {
      "cell_type": "code",
      "metadata": {
        "colab": {
          "base_uri": "https://localhost:8080/"
        },
        "id": "X4U0Sj5gxPkw",
        "outputId": "d1df803a-77d5-45a6-c782-9c6375103e95"
      },
      "source": [
        "squaredlist = [i*i for i in int_list]\n",
        "squaredlist"
      ],
      "execution_count": 57,
      "outputs": [
        {
          "output_type": "execute_result",
          "data": {
            "text/plain": [
              "[1, 4, 9, 16, 25, 36, 49, 64, 81, 100]"
            ]
          },
          "metadata": {
            "tags": []
          },
          "execution_count": 57
        }
      ]
    },
    {
      "cell_type": "markdown",
      "metadata": {
        "id": "r0XyCecuxPkw"
      },
      "source": [
        "And here's a more complicated one, requiring a conditional."
      ]
    },
    {
      "cell_type": "code",
      "metadata": {
        "colab": {
          "base_uri": "https://localhost:8080/"
        },
        "id": "bQnw5a71xPkw",
        "outputId": "ec77aa60-354b-42a0-8478-6017ce981032"
      },
      "source": [
        "comp_list1 = [2*i for i in squaredlist if i % 2 == 0]\n",
        "print(comp_list1)"
      ],
      "execution_count": 58,
      "outputs": [
        {
          "output_type": "stream",
          "text": [
            "[8, 32, 72, 128, 200]\n"
          ],
          "name": "stdout"
        }
      ]
    },
    {
      "cell_type": "markdown",
      "metadata": {
        "id": "8cmp70wOxPkw"
      },
      "source": [
        "This is entirely equivalent to creating `comp_list1` using a loop with a conditional, as below:"
      ]
    },
    {
      "cell_type": "code",
      "metadata": {
        "colab": {
          "base_uri": "https://localhost:8080/"
        },
        "id": "IqXHNWFtxPkw",
        "outputId": "55430a12-6854-4de1-c494-461d519c7839"
      },
      "source": [
        "comp_list2 = []\n",
        "for i in squaredlist:\n",
        "    if i % 2 == 0:\n",
        "        comp_list2.append(2*i)       \n",
        "print(comp_list2)"
      ],
      "execution_count": 59,
      "outputs": [
        {
          "output_type": "stream",
          "text": [
            "[8, 32, 72, 128, 200]\n"
          ],
          "name": "stdout"
        }
      ]
    },
    {
      "cell_type": "markdown",
      "metadata": {
        "id": "McveiULuxPkw"
      },
      "source": [
        "The list comprehension syntax\n",
        "\n",
        "```\n",
        "[expression for item in list if conditional]\n",
        "\n",
        "```\n",
        "\n",
        "is equivalent to the syntax\n",
        "\n",
        "```\n",
        "for item in list:\n",
        "    if conditional:\n",
        "        expression\n",
        "```"
      ]
    },
    {
      "cell_type": "markdown",
      "metadata": {
        "id": "HUm2eeCPxPkx"
      },
      "source": [
        "<div class='exercise'><b> Exercise 2: Build a list that contains every prime number between 1 and 100, in two different ways: </div>\n",
        "    \n",
        "- 2.1 Using for loops and conditional if statements.\n",
        "- 2.2 Using a list comprehension.  You should be able to do this in one line of code. **Hint:** it might help to look up the function `all()` in the documentation."
      ]
    },
    {
      "cell_type": "code",
      "metadata": {
        "colab": {
          "base_uri": "https://localhost:8080/"
        },
        "id": "Kjz4MoJaxPky",
        "outputId": "78feb86a-2665-49f8-b999-e9ecb941a620"
      },
      "source": [
        "#2.1\n",
        "p_lst1 = []\n",
        "for i in range(1, 100):\n",
        "  is_p = True\n",
        "  if i == 1:\n",
        "    is_p = False\n",
        "  for j in range(2, i//2 + 1):\n",
        "      if i % j == 0:\n",
        "         is_p = False\n",
        "  if (is_p):\n",
        "    p_lst1.append(i)\n",
        "\n",
        "print(p_lst1)\n",
        "\n",
        "#2.2\n",
        "p_lst2 = [i for i in range(2, 100) if all(i % y != 0 for y in range (2, i))]\n",
        "print(p_lst2)\n"
      ],
      "execution_count": 97,
      "outputs": [
        {
          "output_type": "stream",
          "text": [
            "[2, 3, 5, 7, 11, 13, 17, 19, 23, 29, 31, 37, 41, 43, 47, 53, 59, 61, 67, 71, 73, 79, 83, 89, 97]\n",
            "[2, 3, 5, 7, 11, 13, 17, 19, 23, 29, 31, 37, 41, 43, 47, 53, 59, 61, 67, 71, 73, 79, 83, 89, 97]\n"
          ],
          "name": "stdout"
        }
      ]
    },
    {
      "cell_type": "markdown",
      "metadata": {
        "id": "cPjVx4AgxPky"
      },
      "source": [
        "## Simple Functions\n",
        "\n",
        "A *function* object is a reusable block of code that does a specific task.  Functions are commonplace in Python, either on their own or as they belong to other objects. To invoke a function `func`, you call it as `func(arguments)`.\n",
        "\n",
        "We've seen built-in Python functions and methods (details below). For example, `len()` and `print()` are built-in Python functions. And at the beginning, you called `np.mean()` to calculate the mean of three numbers, where `mean()` is a function in the numpy module and numpy was abbreviated as `np`. This syntax allows us to have multiple \"mean\" functions in different modules; calling this one as `np.mean()` guarantees that we will execute numpy's mean function, as opposed to a mean function from a different module."
      ]
    },
    {
      "cell_type": "markdown",
      "metadata": {
        "id": "iHhdOJpbxPkz"
      },
      "source": [
        "### User-defined functions\n",
        "\n",
        "We'll now learn to write our own user-defined functions.  Below is the syntax for defining a basic function with one input argument and one output. You can also define functions with no input or output arguments, or multiple input or output arguments.\n",
        "\n",
        "```\n",
        "def name_of_function(arg):\n",
        "    ...\n",
        "    return(output)\n",
        "```\n",
        "\n",
        "We can write functions with one input and one output argument.  Here are two such functions."
      ]
    },
    {
      "cell_type": "code",
      "metadata": {
        "colab": {
          "base_uri": "https://localhost:8080/"
        },
        "id": "yXnfOrVtxPkz",
        "outputId": "4e914bce-2574-4ce8-de75-af6538db5c4d"
      },
      "source": [
        "def square(x):\n",
        "    x_sqr = x*x\n",
        "    return(x_sqr)\n",
        "\n",
        "def cube(x):\n",
        "    x_cub = x*x*x\n",
        "    return(x_cub)\n",
        "\n",
        "square(5),cube(5)"
      ],
      "execution_count": 73,
      "outputs": [
        {
          "output_type": "execute_result",
          "data": {
            "text/plain": [
              "(25, 125)"
            ]
          },
          "metadata": {
            "tags": []
          },
          "execution_count": 73
        }
      ]
    },
    {
      "cell_type": "markdown",
      "metadata": {
        "id": "oiOxFdz-xPk0"
      },
      "source": [
        "What if you want to return two variables at a time? The usual way is to return a tuple:"
      ]
    },
    {
      "cell_type": "code",
      "metadata": {
        "colab": {
          "base_uri": "https://localhost:8080/"
        },
        "id": "ZVXBAotexPk0",
        "outputId": "7dd894e6-3bce-4c88-8159-537c3c75359e"
      },
      "source": [
        "def square_and_cube(x):\n",
        "    x_cub = x*x*x\n",
        "    x_sqr = x*x\n",
        "    return(x_sqr, x_cub)\n",
        "\n",
        "square_and_cube(5)"
      ],
      "execution_count": 74,
      "outputs": [
        {
          "output_type": "execute_result",
          "data": {
            "text/plain": [
              "(25, 125)"
            ]
          },
          "metadata": {
            "tags": []
          },
          "execution_count": 74
        }
      ]
    },
    {
      "cell_type": "markdown",
      "metadata": {
        "id": "IGXSPAe4xPk0"
      },
      "source": [
        "### Lambda functions\n",
        "\n",
        "Often we quickly define mathematical functions with a one-line function called a *lambda* function.  Lambda functions are great because they enable us to write functions without having to name them, ie, they're *anonymous*.  \n",
        "No return statement is needed. \n"
      ]
    },
    {
      "cell_type": "code",
      "metadata": {
        "colab": {
          "base_uri": "https://localhost:8080/"
        },
        "id": "QmnQY9XQxPk0",
        "outputId": "baa08af7-2523-44c3-e25b-97a0e97e5d4e"
      },
      "source": [
        "# create an anonymous function and assign it to the variable square\n",
        "square = lambda x: x*x\n",
        "print(square(3))\n",
        "\n",
        "hypotenuse = lambda x, y: x*x + y*y\n",
        "\n",
        "## Same as\n",
        "# def hypotenuse(x, y):\n",
        "#     return(x*x + y*y)\n",
        "\n",
        "hypotenuse(3,4)"
      ],
      "execution_count": 75,
      "outputs": [
        {
          "output_type": "stream",
          "text": [
            "9\n"
          ],
          "name": "stdout"
        },
        {
          "output_type": "execute_result",
          "data": {
            "text/plain": [
              "25"
            ]
          },
          "metadata": {
            "tags": []
          },
          "execution_count": 75
        }
      ]
    },
    {
      "cell_type": "markdown",
      "metadata": {
        "id": "iRGVNF6ixPk1"
      },
      "source": [
        "### Methods\n",
        "A function that belongs to an object is called a *method*. By \"object,\" we mean an \"instance\" of a class (e.g., list, integer, or floating point variable).\n",
        "\n",
        "For example, when we invoke `append()` on an existing list, `append()` is a method.\n",
        "\n",
        "In other words, a *method* is a function on a specific *instance* of a class (i.e., *object*). In this example, our class is a list. `float_list` is an instance of a list (thus, an object), and the `append()` function is technically a *method* since it pertains to the specific instance `float_list`."
      ]
    },
    {
      "cell_type": "code",
      "metadata": {
        "colab": {
          "base_uri": "https://localhost:8080/"
        },
        "id": "-jTcliqqxPk1",
        "outputId": "40e7bf83-55d7-45ca-966b-9375548aba0c"
      },
      "source": [
        "float_list = [1.0, 2.09, 4.0, 2.0, 0.444]\n",
        "print(float_list)\n",
        "float_list.append(56.7) \n",
        "float_list"
      ],
      "execution_count": 76,
      "outputs": [
        {
          "output_type": "stream",
          "text": [
            "[1.0, 2.09, 4.0, 2.0, 0.444]\n"
          ],
          "name": "stdout"
        },
        {
          "output_type": "execute_result",
          "data": {
            "text/plain": [
              "[1.0, 2.09, 4.0, 2.0, 0.444, 56.7]"
            ]
          },
          "metadata": {
            "tags": []
          },
          "execution_count": 76
        }
      ]
    },
    {
      "cell_type": "markdown",
      "metadata": {
        "id": "WfZBb5xrxPk2"
      },
      "source": [
        "<div class='exercise'><b> Exercise 3: generated a list of the prime numbers between 1 and 100</div>\n",
        "    \n",
        "In Exercise 2, above, you wrote code that generated a list of the prime numbers between 1 and 100. Now, write a function called `isprime()` that takes in a positive integer $N$, and determines whether or not it is prime.  Return `True` if it's prime and return `False` if it isn't. Then, using a list comprehension and `isprime()`, create a list `myprimes` that contains all the prime numbers less than 100.  "
      ]
    },
    {
      "cell_type": "code",
      "metadata": {
        "colab": {
          "base_uri": "https://localhost:8080/"
        },
        "id": "5F3i_46hxPk2",
        "outputId": "f18b9cf0-bdab-478b-e3ee-880852fdfdc5"
      },
      "source": [
        "def isprime(n):\n",
        "   for i in range(2, n//2 + 1):\n",
        "      if n % i == 0:\n",
        "         return False\n",
        "   return True\n",
        "\n",
        "myprimes = [i for i in range(1, 100) if isPrime(i)]\n",
        "print(myprimes)"
      ],
      "execution_count": 93,
      "outputs": [
        {
          "output_type": "stream",
          "text": [
            "[2, 3, 5, 7, 11, 13, 17, 19, 23, 29, 31, 37, 41, 43, 47, 53, 59, 61, 67, 71, 73, 79, 83, 89, 97]\n"
          ],
          "name": "stdout"
        }
      ]
    },
    {
      "cell_type": "markdown",
      "metadata": {
        "id": "8jyScZ-0xPk2"
      },
      "source": [
        "## Introduction to Numpy\n",
        "Scientific Python code uses a fast array structure, called the numpy array. Those who have programmed in Matlab will find this very natural. For reference, the numpy documention can be found [here](https://docs.scipy.org/doc/numpy/reference/).  \n",
        "\n",
        "Let's make a numpy array:"
      ]
    },
    {
      "cell_type": "code",
      "metadata": {
        "colab": {
          "base_uri": "https://localhost:8080/"
        },
        "id": "Swo-CBCtxPk2",
        "outputId": "d89236f3-b898-445e-f741-ed7a77036a21"
      },
      "source": [
        "my_array = np.array([1, 2, 3, 4])\n",
        "my_array"
      ],
      "execution_count": 98,
      "outputs": [
        {
          "output_type": "execute_result",
          "data": {
            "text/plain": [
              "array([1, 2, 3, 4])"
            ]
          },
          "metadata": {
            "tags": []
          },
          "execution_count": 98
        }
      ]
    },
    {
      "cell_type": "code",
      "metadata": {
        "colab": {
          "base_uri": "https://localhost:8080/"
        },
        "id": "s9kQ_GlgxPk3",
        "outputId": "e48cac4c-2311-4c87-eb63-8f813dc216df"
      },
      "source": [
        "# works as it would with a standard list\n",
        "len(my_array)"
      ],
      "execution_count": 99,
      "outputs": [
        {
          "output_type": "execute_result",
          "data": {
            "text/plain": [
              "4"
            ]
          },
          "metadata": {
            "tags": []
          },
          "execution_count": 99
        }
      ]
    },
    {
      "cell_type": "markdown",
      "metadata": {
        "id": "uqABX5evxPk3"
      },
      "source": [
        "The shape array of an array is very useful (we'll see more of it later when we talk about 2D arrays -- matrices -- and higher-dimensional arrays)."
      ]
    },
    {
      "cell_type": "code",
      "metadata": {
        "colab": {
          "base_uri": "https://localhost:8080/"
        },
        "id": "_RN7mwIQxPk3",
        "outputId": "1f408b4f-8c52-4146-e133-39c8f2019ac0"
      },
      "source": [
        "my_array.shape"
      ],
      "execution_count": 100,
      "outputs": [
        {
          "output_type": "execute_result",
          "data": {
            "text/plain": [
              "(4,)"
            ]
          },
          "metadata": {
            "tags": []
          },
          "execution_count": 100
        }
      ]
    },
    {
      "cell_type": "markdown",
      "metadata": {
        "id": "Z3SKByKexPk3"
      },
      "source": [
        "Numpy arrays are **typed**. This means that by default, all the elements will be assumed to be of the same type (e.g., integer, float, String)."
      ]
    },
    {
      "cell_type": "code",
      "metadata": {
        "colab": {
          "base_uri": "https://localhost:8080/"
        },
        "id": "qKwYcbH-xPk3",
        "outputId": "bb2ce206-7b35-4be5-e293-da4aa3fefff4"
      },
      "source": [
        "my_array.dtype"
      ],
      "execution_count": 101,
      "outputs": [
        {
          "output_type": "execute_result",
          "data": {
            "text/plain": [
              "dtype('int64')"
            ]
          },
          "metadata": {
            "tags": []
          },
          "execution_count": 101
        }
      ]
    },
    {
      "cell_type": "markdown",
      "metadata": {
        "id": "2VBru5pKxPk3"
      },
      "source": [
        "Numpy arrays have similar functionality as lists! Below, we compute the length, slice the array, and iterate through it (one could identically perform the same with a list)."
      ]
    },
    {
      "cell_type": "code",
      "metadata": {
        "colab": {
          "base_uri": "https://localhost:8080/"
        },
        "id": "bTPuYG1QxPk4",
        "outputId": "6cba0f6c-d082-4be7-c332-f58c7031ce56"
      },
      "source": [
        "print(len(my_array))\n",
        "print(my_array[2:4])\n",
        "for ele in my_array:\n",
        "    print(ele)"
      ],
      "execution_count": 102,
      "outputs": [
        {
          "output_type": "stream",
          "text": [
            "4\n",
            "[3 4]\n",
            "1\n",
            "2\n",
            "3\n",
            "4\n"
          ],
          "name": "stdout"
        }
      ]
    },
    {
      "cell_type": "markdown",
      "metadata": {
        "id": "5qTr9ZHexPk4"
      },
      "source": [
        "There are two ways to manipulate numpy arrays a) by using the numpy module's methods (e.g., `np.mean()`) or b) by applying the function np.mean() with the numpy array as an argument."
      ]
    },
    {
      "cell_type": "code",
      "metadata": {
        "colab": {
          "base_uri": "https://localhost:8080/"
        },
        "id": "FMjjsL0ixPk4",
        "outputId": "f1f9fa43-e8e3-4991-903d-06f409c0d548"
      },
      "source": [
        "print(my_array.mean())\n",
        "print(np.mean(my_array))"
      ],
      "execution_count": 103,
      "outputs": [
        {
          "output_type": "stream",
          "text": [
            "2.5\n",
            "2.5\n"
          ],
          "name": "stdout"
        }
      ]
    },
    {
      "cell_type": "markdown",
      "metadata": {
        "id": "A41PYiYtxPk4"
      },
      "source": [
        "A ``constructor`` is a general programming term that refers to the mechanism for creating a new object (e.g., list, array, String).\n",
        "\n",
        "There are many other efficient ways to construct numpy arrays. Here are some commonly used numpy array constructors. Read more details in the numpy documentation."
      ]
    },
    {
      "cell_type": "code",
      "metadata": {
        "colab": {
          "base_uri": "https://localhost:8080/"
        },
        "id": "6CormgL5xPk4",
        "outputId": "7465275f-1b72-4cfa-9176-7df6ce244cdd"
      },
      "source": [
        "np.ones(10) # generates 10 floating point ones"
      ],
      "execution_count": 104,
      "outputs": [
        {
          "output_type": "execute_result",
          "data": {
            "text/plain": [
              "array([1., 1., 1., 1., 1., 1., 1., 1., 1., 1.])"
            ]
          },
          "metadata": {
            "tags": []
          },
          "execution_count": 104
        }
      ]
    },
    {
      "cell_type": "markdown",
      "metadata": {
        "id": "C10A33_txPk4"
      },
      "source": [
        "Numpy gains a lot of its efficiency from being typed. That is, all elements in the array have the same type, such as integer or floating point. The default type, as can be seen above, is a float. (Each float uses either 32 or 64 bits of memory, depending on if the code is running a 32-bit or 64-bit machine, respectively)."
      ]
    },
    {
      "cell_type": "code",
      "metadata": {
        "colab": {
          "base_uri": "https://localhost:8080/"
        },
        "id": "LH3mwVKYxPk5",
        "outputId": "04a98833-153f-4884-db28-3ff69e6f4134"
      },
      "source": [
        "np.dtype(float).itemsize # in bytes (remember, 1 byte = 8 bits)"
      ],
      "execution_count": 105,
      "outputs": [
        {
          "output_type": "execute_result",
          "data": {
            "text/plain": [
              "8"
            ]
          },
          "metadata": {
            "tags": []
          },
          "execution_count": 105
        }
      ]
    },
    {
      "cell_type": "code",
      "metadata": {
        "colab": {
          "base_uri": "https://localhost:8080/"
        },
        "id": "lUYqvpY-xPk5",
        "outputId": "ac5a72b7-0436-4383-96f9-9683d0e15829"
      },
      "source": [
        "np.ones(10, dtype='int') # generates 10 integer ones"
      ],
      "execution_count": 106,
      "outputs": [
        {
          "output_type": "execute_result",
          "data": {
            "text/plain": [
              "array([1, 1, 1, 1, 1, 1, 1, 1, 1, 1])"
            ]
          },
          "metadata": {
            "tags": []
          },
          "execution_count": 106
        }
      ]
    },
    {
      "cell_type": "code",
      "metadata": {
        "colab": {
          "base_uri": "https://localhost:8080/"
        },
        "id": "dW3qUAU1xPk5",
        "outputId": "6083dd1c-c4bf-482e-8547-5b49461b53aa"
      },
      "source": [
        "np.zeros(10)"
      ],
      "execution_count": 107,
      "outputs": [
        {
          "output_type": "execute_result",
          "data": {
            "text/plain": [
              "array([0., 0., 0., 0., 0., 0., 0., 0., 0., 0.])"
            ]
          },
          "metadata": {
            "tags": []
          },
          "execution_count": 107
        }
      ]
    },
    {
      "cell_type": "markdown",
      "metadata": {
        "id": "LRgP-QLLxPk5"
      },
      "source": [
        "Often, you will want random numbers. Use the `random` constructor!"
      ]
    },
    {
      "cell_type": "code",
      "metadata": {
        "colab": {
          "base_uri": "https://localhost:8080/"
        },
        "id": "VhBIz8mHxPk5",
        "outputId": "147137c0-0884-47ed-9b3b-8a345effe047"
      },
      "source": [
        "np.random.random(10) # uniform from [0,1]"
      ],
      "execution_count": 108,
      "outputs": [
        {
          "output_type": "execute_result",
          "data": {
            "text/plain": [
              "array([0.69997259, 0.40851508, 0.12549686, 0.20012113, 0.62859287,\n",
              "       0.6369605 , 0.53449946, 0.75538888, 0.50094112, 0.3594539 ])"
            ]
          },
          "metadata": {
            "tags": []
          },
          "execution_count": 108
        }
      ]
    },
    {
      "cell_type": "markdown",
      "metadata": {
        "id": "dUF0pkAdxPk5"
      },
      "source": [
        "You can generate random numbers from a normal distribution with mean 0 and variance 1:"
      ]
    },
    {
      "cell_type": "code",
      "metadata": {
        "colab": {
          "base_uri": "https://localhost:8080/"
        },
        "id": "n9YLVUNhxPk6",
        "outputId": "0e43b307-3682-4e38-d04c-3687c75c73dd"
      },
      "source": [
        "normal_array = np.random.randn(1000)\n",
        "print(\"The sample mean and standard devation are %f and %f, respectively.\" %(np.mean(normal_array), np.std(normal_array)))"
      ],
      "execution_count": 109,
      "outputs": [
        {
          "output_type": "stream",
          "text": [
            "The sample mean and standard devation are -0.063609 and 1.003131, respectively.\n"
          ],
          "name": "stdout"
        }
      ]
    },
    {
      "cell_type": "code",
      "metadata": {
        "colab": {
          "base_uri": "https://localhost:8080/"
        },
        "id": "NPvde8L9xPk6",
        "outputId": "2a923bc8-279c-4aab-8b5d-7a1b611defd7"
      },
      "source": [
        "len(normal_array)"
      ],
      "execution_count": 110,
      "outputs": [
        {
          "output_type": "execute_result",
          "data": {
            "text/plain": [
              "1000"
            ]
          },
          "metadata": {
            "tags": []
          },
          "execution_count": 110
        }
      ]
    },
    {
      "cell_type": "markdown",
      "metadata": {
        "id": "_nlH5hOUxPk6"
      },
      "source": [
        "You can sample with and without replacement from an array. Let's first construct a list with evenly-spaced values:"
      ]
    },
    {
      "cell_type": "code",
      "metadata": {
        "colab": {
          "base_uri": "https://localhost:8080/"
        },
        "id": "wLgnS8gcxPk6",
        "outputId": "d439b1d0-b7a9-44f7-abd3-3b15ae3fed43"
      },
      "source": [
        "grid = np.arange(0., 1.01, 0.1)\n",
        "grid"
      ],
      "execution_count": 111,
      "outputs": [
        {
          "output_type": "execute_result",
          "data": {
            "text/plain": [
              "array([0. , 0.1, 0.2, 0.3, 0.4, 0.5, 0.6, 0.7, 0.8, 0.9, 1. ])"
            ]
          },
          "metadata": {
            "tags": []
          },
          "execution_count": 111
        }
      ]
    },
    {
      "cell_type": "markdown",
      "metadata": {
        "id": "KK7o70xCxPk6"
      },
      "source": [
        "Without replacement"
      ]
    },
    {
      "cell_type": "code",
      "metadata": {
        "colab": {
          "base_uri": "https://localhost:8080/"
        },
        "id": "9wS13cEIxPk6",
        "outputId": "bc510301-6900-4829-9a33-df02900bc169"
      },
      "source": [
        "np.random.choice(grid, 5, replace=False)"
      ],
      "execution_count": 112,
      "outputs": [
        {
          "output_type": "execute_result",
          "data": {
            "text/plain": [
              "array([0. , 0.9, 1. , 0.4, 0.2])"
            ]
          },
          "metadata": {
            "tags": []
          },
          "execution_count": 112
        }
      ]
    },
    {
      "cell_type": "code",
      "metadata": {
        "colab": {
          "base_uri": "https://localhost:8080/",
          "height": 197
        },
        "id": "Uj4pMQCoxPk7",
        "outputId": "80795638-b35f-45fb-c112-d015d296c461"
      },
      "source": [
        "np.random.choice(grid, 20, replace=False)"
      ],
      "execution_count": 113,
      "outputs": [
        {
          "output_type": "error",
          "ename": "ValueError",
          "evalue": "ignored",
          "traceback": [
            "\u001b[0;31m---------------------------------------------------------------------------\u001b[0m",
            "\u001b[0;31mValueError\u001b[0m                                Traceback (most recent call last)",
            "\u001b[0;32m<ipython-input-113-9eae7c9e97b5>\u001b[0m in \u001b[0;36m<module>\u001b[0;34m()\u001b[0m\n\u001b[0;32m----> 1\u001b[0;31m \u001b[0mnp\u001b[0m\u001b[0;34m.\u001b[0m\u001b[0mrandom\u001b[0m\u001b[0;34m.\u001b[0m\u001b[0mchoice\u001b[0m\u001b[0;34m(\u001b[0m\u001b[0mgrid\u001b[0m\u001b[0;34m,\u001b[0m \u001b[0;36m20\u001b[0m\u001b[0;34m,\u001b[0m \u001b[0mreplace\u001b[0m\u001b[0;34m=\u001b[0m\u001b[0;32mFalse\u001b[0m\u001b[0;34m)\u001b[0m\u001b[0;34m\u001b[0m\u001b[0;34m\u001b[0m\u001b[0m\n\u001b[0m",
            "\u001b[0;32mmtrand.pyx\u001b[0m in \u001b[0;36mnumpy.random.mtrand.RandomState.choice\u001b[0;34m()\u001b[0m\n",
            "\u001b[0;31mValueError\u001b[0m: Cannot take a larger sample than population when 'replace=False'"
          ]
        }
      ]
    },
    {
      "cell_type": "markdown",
      "metadata": {
        "id": "vsqegpF-xPk7"
      },
      "source": [
        "With replacement:"
      ]
    },
    {
      "cell_type": "code",
      "metadata": {
        "colab": {
          "base_uri": "https://localhost:8080/"
        },
        "id": "028zPfAYxPk7",
        "outputId": "50b83ffb-0b27-43ae-cef5-ba66875ca5dc"
      },
      "source": [
        "np.random.choice(grid, 20, replace=True)"
      ],
      "execution_count": 114,
      "outputs": [
        {
          "output_type": "execute_result",
          "data": {
            "text/plain": [
              "array([0.1, 0.4, 1. , 0.4, 0.3, 0. , 0.3, 0. , 0.1, 0.7, 0.4, 0. , 0. ,\n",
              "       0.8, 0.9, 1. , 0.6, 0.3, 0. , 0.4])"
            ]
          },
          "metadata": {
            "tags": []
          },
          "execution_count": 114
        }
      ]
    },
    {
      "cell_type": "markdown",
      "metadata": {
        "id": "mSWxUu7XxPk7"
      },
      "source": [
        "#### Numpy supports vector operations\n",
        "\n",
        "What does this mean? It means that instead of adding two arrays, element by element, you can just say: add the two arrays. "
      ]
    },
    {
      "cell_type": "code",
      "metadata": {
        "colab": {
          "base_uri": "https://localhost:8080/"
        },
        "id": "chFpSPEVxPk7",
        "outputId": "03241763-6142-420a-d0f6-235da3ffe444"
      },
      "source": [
        "first = np.ones(5)\n",
        "second = np.ones(5)\n",
        "first + second # adds in-place"
      ],
      "execution_count": 115,
      "outputs": [
        {
          "output_type": "execute_result",
          "data": {
            "text/plain": [
              "array([2., 2., 2., 2., 2.])"
            ]
          },
          "metadata": {
            "tags": []
          },
          "execution_count": 115
        }
      ]
    },
    {
      "cell_type": "markdown",
      "metadata": {
        "id": "GYvax51rxPk7"
      },
      "source": [
        "Note that this behavior is very different from python lists where concatenation happens."
      ]
    },
    {
      "cell_type": "code",
      "metadata": {
        "colab": {
          "base_uri": "https://localhost:8080/"
        },
        "id": "7TSWNBWFxPk8",
        "outputId": "bbe5af06-4fc9-4ea9-df5b-397c2e98f24f"
      },
      "source": [
        "first_list = [1., 1., 1., 1., 1.]\n",
        "second_list = [1., 1., 1., 1., 1.]\n",
        "first_list + second_list # concatenation"
      ],
      "execution_count": 116,
      "outputs": [
        {
          "output_type": "execute_result",
          "data": {
            "text/plain": [
              "[1.0, 1.0, 1.0, 1.0, 1.0, 1.0, 1.0, 1.0, 1.0, 1.0]"
            ]
          },
          "metadata": {
            "tags": []
          },
          "execution_count": 116
        }
      ]
    },
    {
      "cell_type": "markdown",
      "metadata": {
        "id": "flgh-AHAxPk8"
      },
      "source": [
        "On some computer chips, this numpy addition actually happens in parallel and can yield significant increases in speed. But even on regular chips, the advantage of greater readability is important."
      ]
    },
    {
      "cell_type": "markdown",
      "metadata": {
        "id": "kFJmADdhxPk8"
      },
      "source": [
        "#### Broadcasting\n",
        "\n",
        "Numpy supports a concept known as *broadcasting*, which dictates how arrays of different sizes are combined together. There are too many rules to list here, but importantly, multiplying an array by a number multiplies each element by the number. Adding a number adds the number to each element."
      ]
    },
    {
      "cell_type": "code",
      "metadata": {
        "colab": {
          "base_uri": "https://localhost:8080/"
        },
        "id": "VP29WJn4xPk8",
        "outputId": "7b629aed-9690-46fb-a776-d7a79822b380"
      },
      "source": [
        "first + 1"
      ],
      "execution_count": 117,
      "outputs": [
        {
          "output_type": "execute_result",
          "data": {
            "text/plain": [
              "array([2., 2., 2., 2., 2.])"
            ]
          },
          "metadata": {
            "tags": []
          },
          "execution_count": 117
        }
      ]
    },
    {
      "cell_type": "code",
      "metadata": {
        "colab": {
          "base_uri": "https://localhost:8080/"
        },
        "id": "CTzPYRA-xPk8",
        "outputId": "1bb9c950-cf25-4097-a591-f14941179558"
      },
      "source": [
        "first*5"
      ],
      "execution_count": 118,
      "outputs": [
        {
          "output_type": "execute_result",
          "data": {
            "text/plain": [
              "array([5., 5., 5., 5., 5.])"
            ]
          },
          "metadata": {
            "tags": []
          },
          "execution_count": 118
        }
      ]
    },
    {
      "cell_type": "markdown",
      "metadata": {
        "id": "TM_7aLwjxPk8"
      },
      "source": [
        "This means that if you wanted the distribution $N(5, 7)$ you could do:"
      ]
    },
    {
      "cell_type": "code",
      "metadata": {
        "colab": {
          "base_uri": "https://localhost:8080/"
        },
        "id": "5p31qjA_xPk8",
        "outputId": "5aff0216-8751-42e2-feed-a65cd37d42ac"
      },
      "source": [
        "normal_5_7 = 5 + 7*normal_array\n",
        "np.mean(normal_5_7), np.std(normal_5_7)"
      ],
      "execution_count": 119,
      "outputs": [
        {
          "output_type": "execute_result",
          "data": {
            "text/plain": [
              "(4.554735290253993, 7.02191401762587)"
            ]
          },
          "metadata": {
            "tags": []
          },
          "execution_count": 119
        }
      ]
    },
    {
      "cell_type": "markdown",
      "metadata": {
        "id": "l3XW7xTPxPk9"
      },
      "source": [
        "Multiplying two arrays multiplies them element-by-element"
      ]
    },
    {
      "cell_type": "code",
      "metadata": {
        "colab": {
          "base_uri": "https://localhost:8080/"
        },
        "id": "EhxaU8VexPk9",
        "outputId": "b14f14d9-95f5-4434-aa45-22d5071eb28d"
      },
      "source": [
        "(first +1) * (first*5)"
      ],
      "execution_count": 120,
      "outputs": [
        {
          "output_type": "execute_result",
          "data": {
            "text/plain": [
              "array([10., 10., 10., 10., 10.])"
            ]
          },
          "metadata": {
            "tags": []
          },
          "execution_count": 120
        }
      ]
    },
    {
      "cell_type": "markdown",
      "metadata": {
        "id": "OcQxIAB0xPk9"
      },
      "source": [
        "You might have wanted to compute the dot product instead:"
      ]
    },
    {
      "cell_type": "code",
      "metadata": {
        "colab": {
          "base_uri": "https://localhost:8080/"
        },
        "id": "RRLc4rSXxPk9",
        "outputId": "933ca6eb-136e-414d-8528-a7e432ddb99f"
      },
      "source": [
        "np.dot((first +1) , (first*5))"
      ],
      "execution_count": 121,
      "outputs": [
        {
          "output_type": "execute_result",
          "data": {
            "text/plain": [
              "50.0"
            ]
          },
          "metadata": {
            "tags": []
          },
          "execution_count": 121
        }
      ]
    },
    {
      "cell_type": "markdown",
      "metadata": {
        "id": "A3g__em7xPk9"
      },
      "source": [
        "#<div class='exercise'><b> Exercise 4: Matrix multiplication </div>\n",
        "    Using numpy, create a random 5X5 matrix and multiply is by the 5X5 unit matrix"
      ]
    },
    {
      "cell_type": "code",
      "metadata": {
        "colab": {
          "base_uri": "https://localhost:8080/"
        },
        "id": "01aFLVPXxPk9",
        "outputId": "f0a24016-b96e-4892-8b8a-25b310194f0f"
      },
      "source": [
        "unit_matrix = np.ones(shape=(5,5))\n",
        "random_matrix = np.random.rand(5,5)\n",
        "print(random_matrix * unit_matrix)"
      ],
      "execution_count": 135,
      "outputs": [
        {
          "output_type": "stream",
          "text": [
            "[[0.79199521 0.06430765 0.27043361 0.52853762 0.57671772]\n",
            " [0.57634006 0.29102317 0.88693169 0.20770876 0.85231255]\n",
            " [0.60847607 0.16091721 0.15647603 0.52642953 0.91310471]\n",
            " [0.48758051 0.3777823  0.93913493 0.14811366 0.31140879]\n",
            " [0.62316888 0.0083405  0.15502631 0.12331795 0.83536723]]\n"
          ],
          "name": "stdout"
        }
      ]
    },
    {
      "cell_type": "markdown",
      "metadata": {
        "id": "KPNvph7exPk-"
      },
      "source": [
        "## Probabilitiy Distributions from `scipy.stats` and `statsmodels`\n",
        "\n",
        "Two useful statistics libraries in python are `scipy` and `statsmodels`.\n",
        "\n",
        "For example to load the z_test:"
      ]
    },
    {
      "cell_type": "code",
      "metadata": {
        "colab": {
          "base_uri": "https://localhost:8080/"
        },
        "id": "4uXAKPUXxPk-",
        "outputId": "2b7aacc8-054a-401b-ffa7-191448843ae8"
      },
      "source": [
        "import statsmodels\n",
        "from statsmodels.stats.proportion import proportions_ztest"
      ],
      "execution_count": 136,
      "outputs": [
        {
          "output_type": "stream",
          "text": [
            "/usr/local/lib/python3.7/dist-packages/statsmodels/tools/_testing.py:19: FutureWarning: pandas.util.testing is deprecated. Use the functions in the public API at pandas.testing instead.\n",
            "  import pandas.util.testing as tm\n"
          ],
          "name": "stderr"
        }
      ]
    },
    {
      "cell_type": "code",
      "metadata": {
        "colab": {
          "base_uri": "https://localhost:8080/"
        },
        "id": "9vQ-1LwTxPk-",
        "outputId": "2ae004e2-f99e-48aa-d863-d1dcb6a15dd7"
      },
      "source": [
        "x = np.array([74,100])\n",
        "n = np.array([152,266])\n",
        "\n",
        "zstat, pvalue = statsmodels.stats.proportion.proportions_ztest(x, n)    \n",
        "print(\"Two-sided z-test for proportions: \\n\",\"z =\",zstat,\", pvalue =\",pvalue)"
      ],
      "execution_count": 137,
      "outputs": [
        {
          "output_type": "stream",
          "text": [
            "Two-sided z-test for proportions: \n",
            " z = 2.212695207500177 , pvalue = 0.026918666032452288\n"
          ],
          "name": "stdout"
        }
      ]
    },
    {
      "cell_type": "code",
      "metadata": {
        "id": "5Gf4_5E4xPk-"
      },
      "source": [
        "#The `%matplotlib inline` ensures that plots are rendered inline in the browser.\n",
        "%matplotlib inline\n",
        "import matplotlib.pyplot as plt"
      ],
      "execution_count": 138,
      "outputs": []
    },
    {
      "cell_type": "markdown",
      "metadata": {
        "id": "N8z0fwfCxPk-"
      },
      "source": [
        "Let's get the normal distribution namespace from `scipy.stats`. See here for [Documentation](https://docs.scipy.org/doc/scipy/reference/generated/scipy.stats.norm.html)."
      ]
    },
    {
      "cell_type": "code",
      "metadata": {
        "id": "IwLUzjsaxPk-"
      },
      "source": [
        "from scipy.stats import norm"
      ],
      "execution_count": 139,
      "outputs": []
    },
    {
      "cell_type": "markdown",
      "metadata": {
        "id": "dhzIXKZxxPk-"
      },
      "source": [
        "Let's create 1,000 points between -10 and 10"
      ]
    },
    {
      "cell_type": "code",
      "metadata": {
        "colab": {
          "base_uri": "https://localhost:8080/"
        },
        "id": "TmeN7t1nxPk_",
        "outputId": "9148695e-1dc9-4a9a-8018-2a89158f70b4"
      },
      "source": [
        "x = np.linspace(-10, 10, 1000) # linspace() returns evenly-spaced numbers over a specified interval\n",
        "x[0:10], x[-10:]"
      ],
      "execution_count": 140,
      "outputs": [
        {
          "output_type": "execute_result",
          "data": {
            "text/plain": [
              "(array([-10.        ,  -9.97997998,  -9.95995996,  -9.93993994,\n",
              "         -9.91991992,  -9.8998999 ,  -9.87987988,  -9.85985986,\n",
              "         -9.83983984,  -9.81981982]),\n",
              " array([ 9.81981982,  9.83983984,  9.85985986,  9.87987988,  9.8998999 ,\n",
              "         9.91991992,  9.93993994,  9.95995996,  9.97997998, 10.        ]))"
            ]
          },
          "metadata": {
            "tags": []
          },
          "execution_count": 140
        }
      ]
    },
    {
      "cell_type": "markdown",
      "metadata": {
        "id": "zn8wfkKbxPk_"
      },
      "source": [
        "Let's get the pdf of a normal distribution with a mean of 1 and standard deviation 3, and plot it using the grid points computed before:"
      ]
    },
    {
      "cell_type": "code",
      "metadata": {
        "scrolled": true,
        "colab": {
          "base_uri": "https://localhost:8080/",
          "height": 265
        },
        "id": "QVV5nXuVxPk_",
        "outputId": "ef7e9d9a-8794-4128-872f-35f511d6ca72"
      },
      "source": [
        "pdf_x = norm.pdf(x, 1, 3)\n",
        "plt.plot(x, pdf_x);"
      ],
      "execution_count": 141,
      "outputs": [
        {
          "output_type": "display_data",
          "data": {
            "image/png": "[encoded data removed]",
            "text/plain": [
              "<Figure size 432x288 with 1 Axes>"
            ]
          },
          "metadata": {
            "tags": [],
            "needs_background": "light"
          }
        }
      ]
    },
    {
      "cell_type": "markdown",
      "metadata": {
        "id": "mXK_C_mZxPk_"
      },
      "source": [
        "And you can get random variables using the `rvs` function."
      ]
    },
    {
      "cell_type": "markdown",
      "metadata": {
        "id": "5vTqcQAKxPk_"
      },
      "source": [
        "### Referencies\n",
        "\n",
        "A useful book by Jake Vanderplas:  [PythonDataScienceHandbook](https://jakevdp.github.io/PythonDataScienceHandbook/).\n",
        "\n",
        "You may also benefit from using [Chris Albon's web site](https://chrisalbon.com) as a reference. It contains lots of useful information."
      ]
    },
    {
      "cell_type": "markdown",
      "metadata": {
        "id": "rrxaDbWRxPk_"
      },
      "source": [
        "## Dictionaries\n",
        "A dictionary is another data structure (aka storage container) -- arguably the most powerful. Like a list, a dictionary is a sequence of items. Unlike a list, a dictionary is unordered and its items are accessed with keys and not integer positions.  \n",
        "\n",
        "Dictionaries are the closest data structure we have to a database.\n",
        "\n",
        "Let's make a dictionary with a course number and their corresponding enrollment numbers."
      ]
    },
    {
      "cell_type": "code",
      "metadata": {
        "colab": {
          "base_uri": "https://localhost:8080/"
        },
        "id": "57EQ7dHAxPk_",
        "outputId": "7531de5e-0575-4c26-df7f-013706952696"
      },
      "source": [
        "enroll2020_dict = {'CS1': 500, 'CS2': 400, 'Stat1': 300, 'Stat2': 300, 'EE1': 400}\n",
        "enroll2020_dict"
      ],
      "execution_count": 142,
      "outputs": [
        {
          "output_type": "execute_result",
          "data": {
            "text/plain": [
              "{'CS1': 500, 'CS2': 400, 'EE1': 400, 'Stat1': 300, 'Stat2': 300}"
            ]
          },
          "metadata": {
            "tags": []
          },
          "execution_count": 142
        }
      ]
    },
    {
      "cell_type": "markdown",
      "metadata": {
        "id": "J4oKbiDQxPlA"
      },
      "source": [
        "One can obtain the value corresponding to a key via:"
      ]
    },
    {
      "cell_type": "code",
      "metadata": {
        "colab": {
          "base_uri": "https://localhost:8080/"
        },
        "id": "2-1tdzdNxPlA",
        "outputId": "48cf80d0-9cc8-4d9d-a82a-37681cc97d02"
      },
      "source": [
        "enroll2020_dict['CS1']"
      ],
      "execution_count": 143,
      "outputs": [
        {
          "output_type": "execute_result",
          "data": {
            "text/plain": [
              "500"
            ]
          },
          "metadata": {
            "tags": []
          },
          "execution_count": 143
        }
      ]
    },
    {
      "cell_type": "markdown",
      "metadata": {
        "id": "0j3himL6xPlA"
      },
      "source": [
        "If you try to access a key that isn't present, your code will yield an error:"
      ]
    },
    {
      "cell_type": "code",
      "metadata": {
        "colab": {
          "base_uri": "https://localhost:8080/",
          "height": 163
        },
        "id": "32G1ChoRxPlA",
        "outputId": "34591ae2-c604-4d0a-c581-363fce2933fc"
      },
      "source": [
        "enroll2020_dict['CS188']"
      ],
      "execution_count": 1,
      "outputs": [
        {
          "output_type": "error",
          "ename": "NameError",
          "evalue": "ignored",
          "traceback": [
            "\u001b[0;31m---------------------------------------------------------------------------\u001b[0m",
            "\u001b[0;31mNameError\u001b[0m                                 Traceback (most recent call last)",
            "\u001b[0;32m<ipython-input-1-dc682c599b74>\u001b[0m in \u001b[0;36m<module>\u001b[0;34m()\u001b[0m\n\u001b[0;32m----> 1\u001b[0;31m \u001b[0menroll2020_dict\u001b[0m\u001b[0;34m[\u001b[0m\u001b[0;34m'CS188'\u001b[0m\u001b[0;34m]\u001b[0m\u001b[0;34m\u001b[0m\u001b[0;34m\u001b[0m\u001b[0m\n\u001b[0m",
            "\u001b[0;31mNameError\u001b[0m: name 'enroll2020_dict' is not defined"
          ]
        }
      ]
    },
    {
      "cell_type": "markdown",
      "metadata": {
        "id": "ofTEs0hUxPlA"
      },
      "source": [
        "Alternatively, the `.get()` function allows one to gracefully handle these situations by providing a default value if the key isn't found:"
      ]
    },
    {
      "cell_type": "code",
      "metadata": {
        "colab": {
          "base_uri": "https://localhost:8080/"
        },
        "id": "5lZb6F-txPlA",
        "outputId": "42ea5534-5e0b-46e7-f828-be21a563bf83"
      },
      "source": [
        "enroll2020_dict.get('CS188', 5)"
      ],
      "execution_count": 145,
      "outputs": [
        {
          "output_type": "execute_result",
          "data": {
            "text/plain": [
              "5"
            ]
          },
          "metadata": {
            "tags": []
          },
          "execution_count": 145
        }
      ]
    },
    {
      "cell_type": "markdown",
      "metadata": {
        "id": "pTeqlXAJxPlB"
      },
      "source": [
        "Note, this does not _store_ a new value for the key; it only provides a value to return if the key isn't found."
      ]
    },
    {
      "cell_type": "code",
      "metadata": {
        "id": "FHiYzFTjxPlB"
      },
      "source": [
        "enroll2020_dict.get('CS188', None)"
      ],
      "execution_count": 146,
      "outputs": []
    },
    {
      "cell_type": "markdown",
      "metadata": {
        "id": "4Ma23V-gxPlB"
      },
      "source": [
        "All sorts of iterations are supported:"
      ]
    },
    {
      "cell_type": "code",
      "metadata": {
        "colab": {
          "base_uri": "https://localhost:8080/"
        },
        "id": "WPBs_N6WxPlB",
        "outputId": "5192bbe3-e3ef-4c8b-d8c6-5d65971c7111"
      },
      "source": [
        "enroll2020_dict.values()"
      ],
      "execution_count": 147,
      "outputs": [
        {
          "output_type": "execute_result",
          "data": {
            "text/plain": [
              "dict_values([500, 400, 300, 300, 400])"
            ]
          },
          "metadata": {
            "tags": []
          },
          "execution_count": 147
        }
      ]
    },
    {
      "cell_type": "code",
      "metadata": {
        "colab": {
          "base_uri": "https://localhost:8080/"
        },
        "id": "2YTPp4oYxPlB",
        "outputId": "481b9944-b9d0-449a-e00d-344e8c62c0a2"
      },
      "source": [
        "enroll2020_dict.items()"
      ],
      "execution_count": 148,
      "outputs": [
        {
          "output_type": "execute_result",
          "data": {
            "text/plain": [
              "dict_items([('CS1', 500), ('CS2', 400), ('Stat1', 300), ('Stat2', 300), ('EE1', 400)])"
            ]
          },
          "metadata": {
            "tags": []
          },
          "execution_count": 148
        }
      ]
    },
    {
      "cell_type": "markdown",
      "metadata": {
        "id": "n0xDdrIDxPlB"
      },
      "source": [
        "We can iterate over the tuples obtained above:"
      ]
    },
    {
      "cell_type": "code",
      "metadata": {
        "colab": {
          "base_uri": "https://localhost:8080/"
        },
        "id": "CJLvZA6KxPlC",
        "outputId": "9635a6fa-3b68-41e9-b95b-f9c26b8ff145"
      },
      "source": [
        "for key, value in enroll2020_dict.items():\n",
        "    print(\"%s: %d\" %(key, value))"
      ],
      "execution_count": 149,
      "outputs": [
        {
          "output_type": "stream",
          "text": [
            "CS1: 500\n",
            "CS2: 400\n",
            "Stat1: 300\n",
            "Stat2: 300\n",
            "EE1: 400\n"
          ],
          "name": "stdout"
        }
      ]
    },
    {
      "cell_type": "markdown",
      "metadata": {
        "id": "twFSrlZkxPlC"
      },
      "source": [
        "Simply iterating over a dictionary gives us the keys. This is useful when we want to do something with each item:"
      ]
    },
    {
      "cell_type": "code",
      "metadata": {
        "colab": {
          "base_uri": "https://localhost:8080/"
        },
        "id": "iNwRtDc_xPlC",
        "outputId": "d954ac81-f165-4838-bc1b-c42a9c574d67"
      },
      "source": [
        "second_dict={}\n",
        "for key in enroll2020_dict:\n",
        "    second_dict[key] = enroll2020_dict[key]\n",
        "second_dict"
      ],
      "execution_count": 150,
      "outputs": [
        {
          "output_type": "execute_result",
          "data": {
            "text/plain": [
              "{'CS1': 500, 'CS2': 400, 'EE1': 400, 'Stat1': 300, 'Stat2': 300}"
            ]
          },
          "metadata": {
            "tags": []
          },
          "execution_count": 150
        }
      ]
    },
    {
      "cell_type": "markdown",
      "metadata": {
        "id": "StsI7M8qxPlC"
      },
      "source": [
        "The above is an actual __copy__ of _enroll2020_dict's_ allocated memory, unlike, `second_dict = enroll2020_dict` which would have made both variables label the same memory location."
      ]
    },
    {
      "cell_type": "markdown",
      "metadata": {
        "id": "rBBPu1EgxPlC"
      },
      "source": [
        "In the previous dictionary example, the keys were strings corresponding to course names.  Keys don't have to be strings, though; they can be other _immutable_ data type such as numbers or tuples (not lists, as lists are mutable).\n",
        "\n",
        "### Dictionary comprehension: \n",
        "\n",
        "You can construct dictionaries using a *dictionary comprehension*, which is similar to a list comprehension. Notice the brackets {} and the use of `zip` (see next cell for more on `zip`)"
      ]
    },
    {
      "cell_type": "code",
      "metadata": {
        "colab": {
          "base_uri": "https://localhost:8080/"
        },
        "id": "NMtNprPlxPlD",
        "outputId": "7d38acd8-c6f2-49ea-8d37-aa6f005bc3d6"
      },
      "source": [
        "float_list = [1., 3., 5., 4., 2.]\n",
        "int_list = [1, 2, 3, 4, 5, 6, 7, 8, 9, 10]\n",
        "\n",
        "my_dict = {k:v for (k, v) in zip(int_list, float_list)}\n",
        "my_dict"
      ],
      "execution_count": 151,
      "outputs": [
        {
          "output_type": "execute_result",
          "data": {
            "text/plain": [
              "{1: 1.0, 2: 3.0, 3: 5.0, 4: 4.0, 5: 2.0}"
            ]
          },
          "metadata": {
            "tags": []
          },
          "execution_count": 151
        }
      ]
    },
    {
      "cell_type": "markdown",
      "metadata": {
        "id": "hs6lQrvExPlD"
      },
      "source": [
        "#### Creating tuples with `zip`\n",
        "\n",
        "`zip` is a Python built-in function that returns an iterator that aggregates elements from each of the iterables. This is an iterator of tuples, where the i-th tuple contains the i-th element from each of the argument sequences or iterables. The iterator stops when the shortest input iterable is exhausted. The `set()` built-in function returns a `set` object, optionally with elements taken from another iterable. By using `set()` you can make `zip` printable. In the example below, the iterables are the two lists, `float_list` and `int_list`. We can have more than two iterables."
      ]
    },
    {
      "cell_type": "code",
      "metadata": {
        "colab": {
          "base_uri": "https://localhost:8080/"
        },
        "id": "kV8ra2e3xPlD",
        "outputId": "2e8d12fb-0220-4acd-af94-89a2551063cb"
      },
      "source": [
        "float_list = [1., 3., 5., 4., 2.]\n",
        "int_list = [1, 2, 3, 4, 5, 6, 7, 8, 9, 10]\n",
        "\n",
        "viz_zip = set(zip(int_list, float_list))\n",
        "viz_zip"
      ],
      "execution_count": 154,
      "outputs": [
        {
          "output_type": "execute_result",
          "data": {
            "text/plain": [
              "{(1, 1.0), (2, 3.0), (3, 5.0), (4, 4.0), (5, 2.0)}"
            ]
          },
          "metadata": {
            "tags": []
          },
          "execution_count": 154
        }
      ]
    },
    {
      "cell_type": "code",
      "metadata": {
        "colab": {
          "base_uri": "https://localhost:8080/"
        },
        "id": "6LOJ2t2fxPlD",
        "outputId": "5f06b1da-e95c-4654-e843-f26b53a648da"
      },
      "source": [
        "type(viz_zip)"
      ],
      "execution_count": 155,
      "outputs": [
        {
          "output_type": "execute_result",
          "data": {
            "text/plain": [
              "set"
            ]
          },
          "metadata": {
            "tags": []
          },
          "execution_count": 155
        }
      ]
    },
    {
      "cell_type": "markdown",
      "metadata": {
        "id": "6bdyxAdxxPlD"
      },
      "source": [
        "#<div class='exercise'><b> Exercise 5: Dictionary search </div>\n",
        "    Given the dictionary we constructed 'my_dict', find where odd values are, print their keys, and assign to the same key the value multiplied by 2."
      ]
    },
    {
      "cell_type": "code",
      "metadata": {
        "colab": {
          "base_uri": "https://localhost:8080/",
          "height": 231
        },
        "id": "TSHnu6-VxPlD",
        "outputId": "93b36718-ea0c-460d-faf5-971c11b52ea9"
      },
      "source": [
        "for key, value in my_dict.items():\n",
        "  if (value % 2 != 0):\n",
        "    print(key)\n",
        "    my_dict[key] = value * 2\n",
        "\n",
        "print(my_dict)"
      ],
      "execution_count": 3,
      "outputs": [
        {
          "output_type": "error",
          "ename": "NameError",
          "evalue": "ignored",
          "traceback": [
            "\u001b[0;31m---------------------------------------------------------------------------\u001b[0m",
            "\u001b[0;31mNameError\u001b[0m                                 Traceback (most recent call last)",
            "\u001b[0;32m<ipython-input-3-5356cdd93f6b>\u001b[0m in \u001b[0;36m<module>\u001b[0;34m()\u001b[0m\n\u001b[0;32m----> 1\u001b[0;31m \u001b[0;32mfor\u001b[0m \u001b[0mkey\u001b[0m\u001b[0;34m,\u001b[0m \u001b[0mvalue\u001b[0m \u001b[0;32min\u001b[0m \u001b[0mmy_dict\u001b[0m\u001b[0;34m.\u001b[0m\u001b[0mitems\u001b[0m\u001b[0;34m(\u001b[0m\u001b[0;34m)\u001b[0m\u001b[0;34m:\u001b[0m\u001b[0;34m\u001b[0m\u001b[0;34m\u001b[0m\u001b[0m\n\u001b[0m\u001b[1;32m      2\u001b[0m   \u001b[0;32mif\u001b[0m \u001b[0;34m(\u001b[0m\u001b[0mvalue\u001b[0m \u001b[0;34m%\u001b[0m \u001b[0;36m2\u001b[0m \u001b[0;34m!=\u001b[0m \u001b[0;36m0\u001b[0m\u001b[0;34m)\u001b[0m\u001b[0;34m:\u001b[0m\u001b[0;34m\u001b[0m\u001b[0;34m\u001b[0m\u001b[0m\n\u001b[1;32m      3\u001b[0m     \u001b[0mprint\u001b[0m\u001b[0;34m(\u001b[0m\u001b[0mkey\u001b[0m\u001b[0;34m)\u001b[0m\u001b[0;34m\u001b[0m\u001b[0;34m\u001b[0m\u001b[0m\n\u001b[1;32m      4\u001b[0m     \u001b[0mmy_dict\u001b[0m\u001b[0;34m[\u001b[0m\u001b[0mkey\u001b[0m\u001b[0;34m]\u001b[0m \u001b[0;34m=\u001b[0m \u001b[0mvalue\u001b[0m \u001b[0;34m*\u001b[0m \u001b[0;36m2\u001b[0m\u001b[0;34m\u001b[0m\u001b[0;34m\u001b[0m\u001b[0m\n\u001b[1;32m      5\u001b[0m \u001b[0;34m\u001b[0m\u001b[0m\n",
            "\u001b[0;31mNameError\u001b[0m: name 'my_dict' is not defined"
          ]
        }
      ]
    },
    {
      "cell_type": "code",
      "metadata": {
        "id": "5bsmFf3KxPlE"
      },
      "source": [
        ""
      ],
      "execution_count": 158,
      "outputs": []
    }
  ]
}